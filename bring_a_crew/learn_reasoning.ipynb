{
 "cells": [
  {
   "cell_type": "code",
   "id": "initial_id",
   "metadata": {
    "collapsed": true,
    "ExecuteTime": {
     "end_time": "2025-03-09T09:48:25.417443Z",
     "start_time": "2025-03-09T09:48:25.403218Z"
    }
   },
   "source": [
    "from dotenv import load_dotenv\n",
    "import logging\n",
    "\n",
    "from bring_a_crew.setup_logging import setup_logging\n",
    "\n",
    "load_dotenv()\n",
    "setup_logging()"
   ],
   "outputs": [],
   "execution_count": 17
  },
  {
   "metadata": {
    "ExecuteTime": {
     "end_time": "2025-03-09T09:48:27.613523Z",
     "start_time": "2025-03-09T09:48:27.594077Z"
    }
   },
   "cell_type": "code",
   "source": [
    "from openai import OpenAI\n",
    "\n",
    "client = OpenAI()"
   ],
   "id": "8703b4693e3817f6",
   "outputs": [],
   "execution_count": 18
  },
  {
   "metadata": {
    "ExecuteTime": {
     "end_time": "2025-03-06T19:24:24.955035Z",
     "start_time": "2025-03-06T19:24:17.325247Z"
    }
   },
   "cell_type": "code",
   "outputs": [
    {
     "name": "stdout",
     "output_type": "stream",
     "text": [
      "When deciding how to divide an allowance between your two adult children, it's a good idea to consider their individual needs, circumstances, and possibly their current financial situations. Here are a few approaches you could consider:\n",
      "\n",
      "1. **Even Split**: You could simply split the 25 euros evenly, giving each child 12.50 euros. This approach is straightforward and fair in terms of equal distribution.\n",
      "\n",
      "2. **Needs-Based**: If one child has more financial needs or responsibilities (like if they are a student or have more expenses), you might choose to allocate more to that child. Discussing their current needs can help you decide the split.\n",
      "\n",
      "3. **Performance or Milestones**: If you want to encourage certain behaviors or reward achievements (like good grades, completing a project, or securing a new job), you might adjust the amounts accordingly.\n",
      "\n",
      "Ultimately, the decision is up to you and should reflect what you feel is fair and appropriate given their personal situations and your values. It might also be helpful to have a conversation with them to understand their perspectives and communicate your intentions.\n"
     ]
    }
   ],
   "execution_count": 12,
   "source": [
    "\n",
    "prompt = \"\"\"\n",
    "I have two kids and 25 euros. I want to give them allowance. One of them is 19, the other is 21. How much should they get?\n",
    "\"\"\"\n",
    "\n",
    "response = client.chat.completions.create(\n",
    "    # model=\"o3-mini\",\n",
    "    model=\"gpt-4o\",\n",
    "    # reasoning_effort=\"medium\",\n",
    "    messages=[\n",
    "        {\n",
    "            \"role\": \"user\",\n",
    "            \"content\": prompt\n",
    "        }\n",
    "    ]\n",
    ")\n",
    "\n",
    "print(response.choices[0].message.content)"
   ],
   "id": "906c54050ca5847"
  },
  {
   "metadata": {
    "ExecuteTime": {
     "end_time": "2025-03-06T19:07:10.099279Z",
     "start_time": "2025-03-06T19:07:10.095888Z"
    }
   },
   "cell_type": "code",
   "source": "print(response)",
   "id": "8072dd99461e6cc2",
   "outputs": [
    {
     "name": "stdout",
     "output_type": "stream",
     "text": [
      "ChatCompletion(id='chatcmpl-B8ApzbNdifxd5rn05L8ZaAFlygGII', choices=[Choice(finish_reason='stop', index=0, logprobs=None, message=ChatCompletionMessage(content='If you want to give them an equal allowance, simply divide 25 euros by 2. That means each child would get 12.50 euros.', refusal=None, role='assistant', audio=None, function_call=None, tool_calls=None))], created=1741287983, model='o3-mini-2025-01-31', object='chat.completion', service_tier='default', system_fingerprint='fp_42bfad963b', usage=CompletionUsage(completion_tokens=585, prompt_tokens=29, total_tokens=614, completion_tokens_details=CompletionTokensDetails(accepted_prediction_tokens=0, audio_tokens=0, reasoning_tokens=512, rejected_prediction_tokens=0), prompt_tokens_details=PromptTokensDetails(audio_tokens=0, cached_tokens=0)))\n"
     ]
    }
   ],
   "execution_count": 4
  },
  {
   "metadata": {
    "ExecuteTime": {
     "end_time": "2025-03-09T10:30:07.228133Z",
     "start_time": "2025-03-09T10:29:39.780206Z"
    }
   },
   "cell_type": "code",
   "source": [
    "from ollama import chat\n",
    "\n",
    "stream = chat(\n",
    "    model=\"deepseek-r1:14b\",\n",
    "    messages=[\n",
    "        {\n",
    "            \"role\": \"user\",\n",
    "            \"content\": prompt\n",
    "        }\n",
    "    ],\n",
    "    stream=True\n",
    ")\n",
    "\n",
    "for chunk in stream:\n",
    "    print(chunk['message']['content'], end='', flush=True)"
   ],
   "id": "c9bad1c437778820",
   "outputs": [
    {
     "name": "stdout",
     "output_type": "stream",
     "text": [
      "<think>\n",
      "First, I need to understand the total amount available for the allowance, which is €25.\n",
      "\n",
      "Next, I'll consider dividing this amount equally between the two children. Dividing €25 by 2 gives €12.50 per child.\n",
      "\n",
      "However, since allowances are typically given in whole numbers rather than cents, rounding to the nearest euro makes sense.\n",
      "\n",
      "Finally, it's reasonable to allocate €13 to one child and €12 to the other, ensuring that the total remains within the budget of €25.\n",
      "</think>\n",
      "\n",
      "To determine how much allowance each of your two kids should receive from a total of **25 euros**, follow these easy steps:\n",
      "\n",
      "### Step 1: Understand the Total Allowance\n",
      "- **Total Amount Available:** €25\n",
      "\n",
      "### Step 2: Decide on Equal Distribution\n",
      "If you want to distribute the allowance equally between both children, you can divide the total amount by the number of kids.\n",
      "\n",
      "\\[\n",
      "\\text{Allowance per child} = \\frac{\\text{Total Allowance}}{\\text{Number of Kids}} = \\frac{25\\,\\text{€}}{2} = 12.5\\,\\text{€}\n",
      "\\]\n",
      "\n",
      "### Step 3: Allocate the Allowance\n",
      "Since allowances are usually given in whole numbers, you can allocate:\n",
      "\n",
      "- **19-year-old:** €13\n",
      "- **21-year-old:** €12\n",
      "\n",
      "**Total Distributed:** €13 + €12 = €25\n",
      "\n",
      "This way, both kids receive an almost equal amount while staying within the total budget.\n",
      "\n",
      "\\[\n",
      "\\boxed{€13 \\text{ and } €12}\n",
      "\\]"
     ]
    }
   ],
   "execution_count": 31
  },
  {
   "metadata": {
    "ExecuteTime": {
     "end_time": "2025-03-09T10:21:05.520077Z",
     "start_time": "2025-03-09T10:20:53.929477Z"
    }
   },
   "cell_type": "code",
   "source": [
    "collected_chunks = []\n",
    "collected_messages = []\n",
    "\n",
    "completion = client.chat.completions.create(\n",
    "    model=\"o3-mini\",\n",
    "    messages=[\n",
    "        {\n",
    "            \"role\": \"user\",\n",
    "            \"content\": prompt\n",
    "        }\n",
    "    ],\n",
    "    stream=True\n",
    ")\n",
    "\n",
    "for chunk in completion:\n",
    "    collected_chunks.append(chunk)\n",
    "    chunk_message = chunk.choices[0].delta.content\n",
    "    collected_messages.append(chunk_message)\n",
    "    print(chunk_message, end='')"
   ],
   "id": "6cfea42bd5b78cc5",
   "outputs": [
    {
     "name": "stdout",
     "output_type": "stream",
     "text": [
      "You have a couple of choices for splitting 25 euros between your 19‐year‐old and 21‐year‐old, and the “best” method depends on what you consider fair. Here are two common approaches:\n",
      "\n",
      "1. Equal Split:\n",
      " • Simply give each child the same amount. Dividing 25 euros evenly gives each 12.50 euros.\n",
      "\n",
      "2. Age-Proportional Split:\n",
      " • If you’d rather account for the slight age difference by giving a bit more to the older child, you could base it on their ages.\n",
      " • Combine their ages: 19 + 21 = 40.\n",
      " • Calculate the share for each:\n",
      "  – For the 19‐year‐old: (19/40) × 25 ≈ 11.88 euros.\n",
      "  – For the 21‐year‐old: (21/40) × 25 ≈ 13.13 euros.\n",
      " • You might round these to approximately 12 euros and 13 euros, respectively.\n",
      "\n",
      "Because both are almost adults, many parents choose an equal split (12.50 euros each) for simplicity and fairness. However, if you feel that the 21‐year‐old should receive slightly more due to extra responsibilities or higher expenses, the proportional method is a reasonable alternative.\n",
      "\n",
      "Ultimately, the choice is up to you and what you feel best meets your family’s values and circumstances.None"
     ]
    }
   ],
   "execution_count": 28
  }
 ],
 "metadata": {
  "kernelspec": {
   "display_name": "Python 3",
   "language": "python",
   "name": "python3"
  },
  "language_info": {
   "codemirror_mode": {
    "name": "ipython",
    "version": 2
   },
   "file_extension": ".py",
   "mimetype": "text/x-python",
   "name": "python",
   "nbconvert_exporter": "python",
   "pygments_lexer": "ipython2",
   "version": "2.7.6"
  }
 },
 "nbformat": 4,
 "nbformat_minor": 5
}
