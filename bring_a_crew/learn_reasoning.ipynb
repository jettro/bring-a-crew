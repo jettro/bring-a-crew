{
 "cells": [
  {
   "cell_type": "code",
   "execution_count": null,
   "id": "initial_id",
   "metadata": {
    "ExecuteTime": {
     "end_time": "2025-03-09T09:48:25.417443Z",
     "start_time": "2025-03-09T09:48:25.403218Z"
    }
   },
   "outputs": [],
   "source": [
    "from dotenv import load_dotenv\n",
    "import logging\n",
    "\n",
    "from bring_a_crew.setup_logging import setup_logging\n",
    "\n",
    "load_dotenv()\n",
    "setup_logging()"
   ]
  },
  {
   "cell_type": "code",
   "execution_count": null,
   "id": "8703b4693e3817f6",
   "metadata": {
    "ExecuteTime": {
     "end_time": "2025-03-09T09:48:27.613523Z",
     "start_time": "2025-03-09T09:48:27.594077Z"
    }
   },
   "outputs": [],
   "source": [
    "from openai import OpenAI\n",
    "\n",
    "client = OpenAI()"
   ]
  },
  {
   "cell_type": "code",
   "execution_count": null,
   "id": "906c54050ca5847",
   "metadata": {
    "ExecuteTime": {
     "end_time": "2025-03-06T19:24:24.955035Z",
     "start_time": "2025-03-06T19:24:17.325247Z"
    }
   },
   "outputs": [],
   "source": [
    "\n",
    "prompt = \"\"\"\n",
    "I have two kids and 25 euros. I want to give them allowance. One of them is 19, the other is 21. How much should they get?\n",
    "\"\"\"\n",
    "\n",
    "response = client.chat.completions.create(\n",
    "    # model=\"o3-mini\",\n",
    "    model=\"gpt-4o\",\n",
    "    # reasoning_effort=\"medium\",\n",
    "    messages=[\n",
    "        {\n",
    "            \"role\": \"user\",\n",
    "            \"content\": prompt\n",
    "        }\n",
    "    ]\n",
    ")\n",
    "\n",
    "print(response.choices[0].message.content)"
   ]
  },
  {
   "cell_type": "code",
   "execution_count": null,
   "id": "8072dd99461e6cc2",
   "metadata": {
    "ExecuteTime": {
     "end_time": "2025-03-06T19:07:10.099279Z",
     "start_time": "2025-03-06T19:07:10.095888Z"
    }
   },
   "outputs": [],
   "source": [
    "print(response)"
   ]
  },
  {
   "cell_type": "code",
   "execution_count": null,
   "id": "c9bad1c437778820",
   "metadata": {
    "ExecuteTime": {
     "end_time": "2025-03-09T10:30:07.228133Z",
     "start_time": "2025-03-09T10:29:39.780206Z"
    }
   },
   "outputs": [],
   "source": [
    "from ollama import chat\n",
    "\n",
    "stream = chat(\n",
    "    model=\"deepseek-r1:14b\",\n",
    "    messages=[\n",
    "        {\n",
    "            \"role\": \"user\",\n",
    "            \"content\": prompt\n",
    "        }\n",
    "    ],\n",
    "    stream=True\n",
    ")\n",
    "\n",
    "for chunk in stream:\n",
    "    print(chunk['message']['content'], end='', flush=True)"
   ]
  },
  {
   "cell_type": "code",
   "execution_count": null,
   "id": "6cfea42bd5b78cc5",
   "metadata": {
    "ExecuteTime": {
     "end_time": "2025-03-09T10:21:05.520077Z",
     "start_time": "2025-03-09T10:20:53.929477Z"
    }
   },
   "outputs": [],
   "source": [
    "collected_chunks = []\n",
    "collected_messages = []\n",
    "\n",
    "completion = client.chat.completions.create(\n",
    "    model=\"o3-mini\",\n",
    "    messages=[\n",
    "        {\n",
    "            \"role\": \"user\",\n",
    "            \"content\": prompt\n",
    "        }\n",
    "    ],\n",
    "    stream=True\n",
    ")\n",
    "\n",
    "for chunk in completion:\n",
    "    collected_chunks.append(chunk)\n",
    "    chunk_message = chunk.choices[0].delta.content\n",
    "    collected_messages.append(chunk_message)\n",
    "    print(chunk_message, end='')"
   ]
  }
 ],
 "metadata": {
  "kernelspec": {
   "display_name": "Python 3 (ipykernel)",
   "language": "python",
   "name": "python3"
  },
  "language_info": {
   "codemirror_mode": {
    "name": "ipython",
    "version": 3
   },
   "file_extension": ".py",
   "mimetype": "text/x-python",
   "name": "python",
   "nbconvert_exporter": "python",
   "pygments_lexer": "ipython3",
   "version": "3.12.9"
  }
 },
 "nbformat": 4,
 "nbformat_minor": 5
}
