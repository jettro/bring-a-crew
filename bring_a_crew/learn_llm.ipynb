{
 "cells": [
  {
   "cell_type": "markdown",
   "id": "8fe03986-b7d5-48a6-b038-5e8e8cbb88d1",
   "metadata": {
    "editable": true,
    "slideshow": {
     "slide_type": "slide"
    },
    "tags": []
   },
   "source": [
    "# Recap of Large Language Models"
   ]
  },
  {
   "cell_type": "markdown",
   "id": "dcfc3862-b89f-4afe-b015-39b4d41fe13a",
   "metadata": {
    "editable": true,
    "slideshow": {
     "slide_type": "fragment"
    },
    "tags": []
   },
   "source": [
    "Learn the basics"
   ]
  },
  {
   "cell_type": "markdown",
   "id": "23a9c069-bc93-4c0e-82b7-644bc89ed117",
   "metadata": {
    "editable": true,
    "slideshow": {
     "slide_type": "slide"
    },
    "tags": []
   },
   "source": "## Recap LLMs ~ Generate an answer to a single question"
  },
  {
   "cell_type": "code",
   "id": "initial_id",
   "metadata": {
    "editable": true,
    "slideshow": {
     "slide_type": "fragment"
    },
    "tags": [],
    "ExecuteTime": {
     "end_time": "2025-02-10T23:39:09.823617Z",
     "start_time": "2025-02-10T23:39:09.715366Z"
    }
   },
   "source": [
    "from dotenv import load_dotenv\n",
    "import logging\n",
    "\n",
    "from bring_a_crew.setup_logging import setup_logging\n",
    "from ollama import chat, generate\n"
   ],
   "outputs": [],
   "execution_count": 1
  },
  {
   "cell_type": "code",
   "id": "d5a00dc2-e1c4-4e1d-9648-24f914124c4f",
   "metadata": {
    "editable": true,
    "slideshow": {
     "slide_type": "fragment"
    },
    "tags": [],
    "ExecuteTime": {
     "end_time": "2025-02-10T23:39:09.834878Z",
     "start_time": "2025-02-10T23:39:09.831900Z"
    }
   },
   "source": [
    "MODEL = \"phi4\"\n",
    "\n",
    "_ = load_dotenv()\n",
    "setup_logging()\n",
    "main_log = logging.getLogger(\"main\")\n",
    "main_log.setLevel(logging.INFO)\n"
   ],
   "outputs": [],
   "execution_count": 2
  },
  {
   "cell_type": "code",
   "id": "4889c244-5ed9-49f1-bef1-1dd8bbb985d6",
   "metadata": {
    "editable": true,
    "slideshow": {
     "slide_type": "fragment"
    },
    "tags": [],
    "ExecuteTime": {
     "end_time": "2025-02-10T23:39:09.839764Z",
     "start_time": "2025-02-10T23:39:09.837475Z"
    }
   },
   "source": [
    "def run_question(question):\n",
    "    llm_response = generate(\n",
    "        prompt=question,\n",
    "        model=MODEL,\n",
    "        options={\n",
    "            \"temperature\": 1\n",
    "        }\n",
    "    )\n",
    "    main_log.debug(llm_response)\n",
    "    return llm_response.response\n"
   ],
   "outputs": [],
   "execution_count": 3
  },
  {
   "cell_type": "code",
   "id": "2493ff50-d1e1-491d-bce3-38db1107152e",
   "metadata": {
    "editable": true,
    "slideshow": {
     "slide_type": "fragment"
    },
    "tags": [],
    "ExecuteTime": {
     "end_time": "2025-02-10T23:39:22.732493Z",
     "start_time": "2025-02-10T23:39:09.941078Z"
    }
   },
   "source": [
    "print(run_question(\"When is Jettro available?\"))"
   ],
   "outputs": [
    {
     "name": "stdout",
     "output_type": "stream",
     "text": [
      "Jettro, a character from the TV series \"Huntik: Secrets & Seekers,\" doesn't have specific availability times like a game or service might. In the context of the show, his presence and involvement depend on the storyline.\n",
      "\n",
      "If you're looking to watch episodes featuring Jettro:\n",
      "\n",
      "1. **Streaming Services:** Check platforms that offer \"Huntik\" to find available episodes.\n",
      "2. **DVD Collections:** Purchase or rent physical copies if they are available in your region.\n",
      "3. **Broadcast Schedule:** Look up TV listings for channels airing the series, if applicable.\n",
      "\n",
      "For other contexts, like video games or merchandise related to Jettro, you might want to check specific platforms or retailers for availability details.\n"
     ]
    }
   ],
   "execution_count": 4
  },
  {
   "cell_type": "markdown",
   "id": "6437fe34-02a8-4ea3-83e1-8c10031e7cff",
   "metadata": {
    "editable": true,
    "slideshow": {
     "slide_type": "slide"
    },
    "tags": []
   },
   "source": [
    "# Recap LLMs ~ System message"
   ]
  },
  {
   "cell_type": "markdown",
   "id": "551eae83-6b2a-4e90-a715-c7adc764fa19",
   "metadata": {
    "editable": true,
    "slideshow": {
     "slide_type": "fragment"
    },
    "tags": []
   },
   "source": [
    "With a system message, you tell the LLM more about the role"
   ]
  },
  {
   "metadata": {
    "ExecuteTime": {
     "end_time": "2025-02-10T23:46:22.800064Z",
     "start_time": "2025-02-10T23:46:03.684310Z"
    }
   },
   "cell_type": "code",
   "source": "print(run_question(\"I need to make an appointment with Jettro, when is he available?\"))",
   "id": "ca15d1173bedff45",
   "outputs": [
    {
     "name": "stdout",
     "output_type": "stream",
     "text": [
      "As a large language model, I don't have access to specific personal schedules or real-time information. To find out when Jettro is available for an appointment, consider the following steps:\n",
      "\n",
      "1. **Contact Directly**: Reach out to him directly via email, phone, or messaging platform if you have his contact details.\n",
      "\n",
      "2. **Check Online Calendars**: If he uses a shared online calendar (like Google Calendar) and has granted you access, you can check for available slots there.\n",
      "\n",
      "3. **Assistant or Office**: Contact his assistant or the office through which appointments are scheduled, as they can provide information on his availability.\n",
      "\n",
      "4. **Visit Website/Profile**: If Jettro has a professional website or social media profile, he might have an appointment booking system or calendar visibility that you can use to find open times.\n",
      "\n",
      "5. **Mutual Contacts**: Ask mutual contacts if they know when he is free and willing to make appointments.\n",
      "\n",
      "Remember to respect privacy boundaries and ensure any contact is appropriate and within any existing guidelines for communication with him.\n"
     ]
    }
   ],
   "execution_count": 5
  },
  {
   "metadata": {
    "ExecuteTime": {
     "end_time": "2025-02-10T23:47:02.774927Z",
     "start_time": "2025-02-10T23:47:02.771827Z"
    }
   },
   "cell_type": "code",
   "source": [
    "def run_question_with_system_msg(question):\n",
    "    llm_response = generate(\n",
    "        prompt=question,\n",
    "        model=MODEL,\n",
    "        options={\n",
    "            \"temperature\": 1,\n",
    "        },\n",
    "        system=(\n",
    "            \"You are a scheduling assistant. You help in checking the availability of people.\"\n",
    "            \"Do not make up availability if you do not know the person's schedule.\"\n",
    "            \"Answer in short sentences, stick to the answer to the question.\"\n",
    "        )\n",
    "    )\n",
    "    main_log.debug(llm_response)\n",
    "    return llm_response.response\n"
   ],
   "id": "120c77eb823ec5b3",
   "outputs": [],
   "execution_count": 6
  },
  {
   "metadata": {
    "ExecuteTime": {
     "end_time": "2025-02-10T23:47:22.159790Z",
     "start_time": "2025-02-10T23:47:19.075462Z"
    }
   },
   "cell_type": "code",
   "source": "print(run_question_with_system_msg(\"When is Jettro available?\"))",
   "id": "a6caf0861eed6390",
   "outputs": [
    {
     "name": "stdout",
     "output_type": "stream",
     "text": [
      "I don't have access to Jettro's schedule. Please check with Jettro directly or consult a shared calendar if one is used for scheduling.\n"
     ]
    }
   ],
   "execution_count": 7
  }
 ],
 "metadata": {
  "kernelspec": {
   "display_name": "Python 3 (ipykernel)",
   "language": "python",
   "name": "python3"
  },
  "language_info": {
   "codemirror_mode": {
    "name": "ipython",
    "version": 3
   },
   "file_extension": ".py",
   "mimetype": "text/x-python",
   "name": "python",
   "nbconvert_exporter": "python",
   "pygments_lexer": "ipython3",
   "version": "3.12.8"
  }
 },
 "nbformat": 4,
 "nbformat_minor": 5
}
