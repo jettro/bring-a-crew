{
 "cells": [
  {
   "cell_type": "markdown",
   "id": "b72a4eeb-a92d-4cf8-a00e-c99b45a69e62",
   "metadata": {},
   "source": [
    "# Learn to use and create your custom Agent\n",
    "In this notebook, you see how to create a new agent using the ActionAgent super class. The super class needs you to write an introduction for the agent. Besides the introduction, you write the tools and describe them in a JSON format. The ActionAgent class gives you:\n",
    "- The system prompt tells the Agent to use ReAct, memory and the tools.\n",
    "- A memory consisting of the messages you write, the ones the assistant writes, and the observations from the tools.\n",
    "- A method to execute the tools with arguments as specified by the LLM.\n",
    "- Extracting the answer from the prompt to send back to you."
   ]
  },
  {
   "cell_type": "code",
   "execution_count": null,
   "id": "initial_id",
   "metadata": {
    "ExecuteTime": {
     "end_time": "2025-03-09T11:35:26.731544Z",
     "start_time": "2025-03-09T11:35:26.594859Z"
    }
   },
   "outputs": [],
   "source": [
    "from dotenv import load_dotenv\n",
    "import logging\n",
    "\n",
    "from bring_a_crew.setup_logging import setup_logging\n",
    "from ollama import chat, generate\n",
    "\n",
    "MODEL = \"phi4\"\n",
    "\n",
    "_ = load_dotenv()\n",
    "setup_logging()\n",
    "main_log = logging.getLogger(\"main\")\n",
    "main_log.setLevel(logging.INFO)\n"
   ]
  },
  {
   "cell_type": "markdown",
   "id": "6f75dda56f511d5f",
   "metadata": {},
   "source": [
    "## Initialize the tools\n",
    "Below are the two functions that are used as tools for the Agent"
   ]
  },
  {
   "cell_type": "code",
   "execution_count": null,
   "id": "7abfa883135944fd",
   "metadata": {
    "ExecuteTime": {
     "end_time": "2025-03-09T11:35:56.653658Z",
     "start_time": "2025-03-09T11:35:56.650801Z"
    }
   },
   "outputs": [],
   "source": [
    "def check_available_room(req_date: str, timeslot: str, number_of_people: int):\n",
    "    \"\"\"Check if a room is available for the requested date, timeslot and number of people.\"\"\"\n",
    "    return f\"Room with more then {number_of_people} seats is available on {req_date} for {timeslot}. You can book it.\"\n",
    "\n",
    "def book_room(req_date: str, timeslot: str, number_of_people: int):\n",
    "    \"\"\"Book a room for the requested date, timeslot and number\"\"\"\n",
    "    room_id = f\"max_{str(number_of_people)}_people\"\n",
    "    return f\"Room with more then {number_of_people} seats is booked on {req_date} for {timeslot} with id {room_id}.\"\n"
   ]
  },
  {
   "cell_type": "markdown",
   "id": "f5cf2d95a24377cc",
   "metadata": {},
   "source": [
    "## Initialize the Agent\n",
    "Initialize the Facility Manager Agent with the two tools, a short introduction and a name."
   ]
  },
  {
   "cell_type": "code",
   "execution_count": null,
   "id": "a5e78842cd8c5ae8",
   "metadata": {
    "ExecuteTime": {
     "end_time": "2025-03-09T11:38:25.596209Z",
     "start_time": "2025-03-09T11:38:25.591880Z"
    }
   },
   "outputs": [],
   "source": [
    "from bring_a_crew.action_agent import ActionAgent\n",
    "\n",
    "\n",
    "facility_manager = ActionAgent(\n",
    "        name=\"facility_manager\",\n",
    "        intro=\"This agent checks the availability of rooms and books them.\",\n",
    "        actions={\n",
    "            \"check_available_room\": {\n",
    "                \"description\": (\n",
    "                    \"Find an available room with more than the requested seats \"\n",
    "                    \"for the time and day. Rooms are only available to book for \"\n",
    "                    \"morning or afternoon.\"\n",
    "                ),\n",
    "                \"function\": check_available_room,\n",
    "                \"arguments\": [\n",
    "                    {\"name\": \"req_date\", \"type\": \"str\"},\n",
    "                    {\"name\": \"timeslot\", \"type\": \"str\"},\n",
    "                    {\"name\": \"number_of_people\", \"type\": \"int\"}\n",
    "                ]\n",
    "            },\n",
    "            \"book_room\": {\n",
    "                \"description\": (\n",
    "                    \"Book a room with more than the requested seats for the time \"\n",
    "                    \"and day. Rooms are only available to book for the morning or \"\n",
    "                    \"afternoon. Return the room id.\"\n",
    "                ),\n",
    "                \"function\": book_room,\n",
    "                \"arguments\": [\n",
    "                    {\"name\": \"req_date\", \"type\": \"str\"},\n",
    "                    {\"name\": \"timeslot\", \"type\": \"str\"},\n",
    "                    {\"name\": \"number_of_people\", \"type\": \"int\"}\n",
    "                ]\n",
    "            }\n",
    "        }\n",
    "    )\n"
   ]
  },
  {
   "cell_type": "code",
   "execution_count": null,
   "id": "e4c903463c6b0fdd",
   "metadata": {
    "ExecuteTime": {
     "end_time": "2025-03-09T11:40:00.121917Z",
     "start_time": "2025-03-09T11:39:22.938344Z"
    }
   },
   "outputs": [],
   "source": [
    "facility_manager.perform_action(\"Check for an available room for 6 people wednesday morning the 12th of February.\")"
   ]
  },
  {
   "cell_type": "code",
   "execution_count": null,
   "id": "f0f3f919-8163-4f56-92de-7693d930d264",
   "metadata": {},
   "outputs": [],
   "source": []
  }
 ],
 "metadata": {
  "kernelspec": {
   "display_name": "Python 3 (ipykernel)",
   "language": "python",
   "name": "python3"
  },
  "language_info": {
   "codemirror_mode": {
    "name": "ipython",
    "version": 3
   },
   "file_extension": ".py",
   "mimetype": "text/x-python",
   "name": "python",
   "nbconvert_exporter": "python",
   "pygments_lexer": "ipython3",
   "version": "3.12.9"
  }
 },
 "nbformat": 4,
 "nbformat_minor": 5
}
